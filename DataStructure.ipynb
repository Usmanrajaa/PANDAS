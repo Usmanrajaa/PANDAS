{
 "cells": [
  {
   "cell_type": "code",
   "execution_count": 2,
   "id": "bc3a5581",
   "metadata": {},
   "outputs": [
    {
     "name": "stdout",
     "output_type": "stream",
     "text": [
      "Requirement already satisfied: pandas in c:\\users\\hp\\appdata\\local\\programs\\python\\python312\\lib\\site-packages (2.3.1)\n",
      "Requirement already satisfied: numpy>=1.26.0 in c:\\users\\hp\\appdata\\local\\programs\\python\\python312\\lib\\site-packages (from pandas) (2.3.1)\n",
      "Requirement already satisfied: python-dateutil>=2.8.2 in c:\\users\\hp\\appdata\\roaming\\python\\python312\\site-packages (from pandas) (2.9.0.post0)\n",
      "Requirement already satisfied: pytz>=2020.1 in c:\\users\\hp\\appdata\\local\\programs\\python\\python312\\lib\\site-packages (from pandas) (2025.2)\n",
      "Requirement already satisfied: tzdata>=2022.7 in c:\\users\\hp\\appdata\\local\\programs\\python\\python312\\lib\\site-packages (from pandas) (2025.2)\n",
      "Requirement already satisfied: six>=1.5 in c:\\users\\hp\\appdata\\roaming\\python\\python312\\site-packages (from python-dateutil>=2.8.2->pandas) (1.17.0)\n",
      "Note: you may need to restart the kernel to use updated packages.\n"
     ]
    },
    {
     "name": "stderr",
     "output_type": "stream",
     "text": [
      "\n",
      "[notice] A new release of pip is available: 25.0.1 -> 25.2\n",
      "[notice] To update, run: python.exe -m pip install --upgrade pip\n"
     ]
    }
   ],
   "source": [
    "pip install pandas\n"
   ]
  },
  {
   "cell_type": "code",
   "execution_count": 3,
   "id": "abdcf030",
   "metadata": {},
   "outputs": [],
   "source": [
    "import pandas as pd"
   ]
  },
  {
   "cell_type": "markdown",
   "id": "c2a67688",
   "metadata": {},
   "source": [
    "# SERIES"
   ]
  },
  {
   "cell_type": "markdown",
   "id": "39d9396e",
   "metadata": {},
   "source": [
    "## Method 1 [From a List]"
   ]
  },
  {
   "cell_type": "code",
   "execution_count": 4,
   "id": "59451415",
   "metadata": {},
   "outputs": [],
   "source": [
    "data=[10,20,30,40,50]\n",
    "df=pd.Series(data)"
   ]
  },
  {
   "cell_type": "code",
   "execution_count": 5,
   "id": "46e018fc",
   "metadata": {},
   "outputs": [
    {
     "data": {
      "text/plain": [
       "0    10\n",
       "1    20\n",
       "2    30\n",
       "3    40\n",
       "4    50\n",
       "dtype: int64"
      ]
     },
     "execution_count": 5,
     "metadata": {},
     "output_type": "execute_result"
    }
   ],
   "source": [
    "df"
   ]
  },
  {
   "cell_type": "code",
   "execution_count": 20,
   "id": "4d3f2b2b",
   "metadata": {},
   "outputs": [
    {
     "data": {
      "text/plain": [
       "np.int64(30)"
      ]
     },
     "execution_count": 20,
     "metadata": {},
     "output_type": "execute_result"
    }
   ],
   "source": [
    "df[2]"
   ]
  },
  {
   "cell_type": "markdown",
   "id": "8a75e99b",
   "metadata": {},
   "source": [
    "## Method-2 [FROM CUSTOM INDEX]"
   ]
  },
  {
   "cell_type": "code",
   "execution_count": 6,
   "id": "9e970392",
   "metadata": {},
   "outputs": [],
   "source": [
    "data1=[10,20,30,40,50]\n",
    "df1=pd.Series(data,index=['a','b','c','d','e'])"
   ]
  },
  {
   "cell_type": "code",
   "execution_count": 33,
   "id": "f2fa754f",
   "metadata": {},
   "outputs": [
    {
     "data": {
      "text/plain": [
       "np.int64(10)"
      ]
     },
     "execution_count": 33,
     "metadata": {},
     "output_type": "execute_result"
    }
   ],
   "source": [
    "df1['a']"
   ]
  },
  {
   "cell_type": "code",
   "execution_count": 23,
   "id": "c55a192a",
   "metadata": {},
   "outputs": [
    {
     "data": {
      "text/plain": [
       "np.int64(40)"
      ]
     },
     "execution_count": 23,
     "metadata": {},
     "output_type": "execute_result"
    }
   ],
   "source": [
    "df1['d']"
   ]
  },
  {
   "cell_type": "markdown",
   "id": "713d2813",
   "metadata": {},
   "source": [
    "## Method-3 [From Dictionary]"
   ]
  },
  {
   "cell_type": "code",
   "execution_count": 8,
   "id": "49decfb9",
   "metadata": {},
   "outputs": [],
   "source": [
    "data2={'fruit':'apple','total_count':300,'price':40}\n",
    "df2=pd.Series(data2)"
   ]
  },
  {
   "cell_type": "code",
   "execution_count": 34,
   "id": "50f0b2ba",
   "metadata": {},
   "outputs": [
    {
     "data": {
      "text/plain": [
       "'apple'"
      ]
     },
     "execution_count": 34,
     "metadata": {},
     "output_type": "execute_result"
    }
   ],
   "source": [
    "df2['fruit']"
   ]
  },
  {
   "cell_type": "code",
   "execution_count": 25,
   "id": "1d0932f7",
   "metadata": {},
   "outputs": [
    {
     "data": {
      "text/plain": [
       "300"
      ]
     },
     "execution_count": 25,
     "metadata": {},
     "output_type": "execute_result"
    }
   ],
   "source": [
    "df2['total_count']"
   ]
  },
  {
   "cell_type": "markdown",
   "id": "ba1fd316",
   "metadata": {},
   "source": [
    "# DATAFRAME"
   ]
  },
  {
   "cell_type": "markdown",
   "id": "f0aa4ecc",
   "metadata": {},
   "source": [
    "## Method-1 [From dictionary of lists]"
   ]
  },
  {
   "cell_type": "code",
   "execution_count": 10,
   "id": "f286402e",
   "metadata": {},
   "outputs": [],
   "source": [
    "data3={\n",
    "    'name':['ankit','sachin','sourav'],\n",
    "    'age':[24,25,32],\n",
    "    'profession':['sde','data','training']\n",
    "}"
   ]
  },
  {
   "cell_type": "code",
   "execution_count": null,
   "id": "9826558f",
   "metadata": {},
   "outputs": [],
   "source": []
  },
  {
   "cell_type": "code",
   "execution_count": 26,
   "id": "02a90d4d",
   "metadata": {},
   "outputs": [],
   "source": [
    "df3=pd.DataFrame(data3)"
   ]
  },
  {
   "cell_type": "code",
   "execution_count": 35,
   "id": "b8b7586c",
   "metadata": {},
   "outputs": [
    {
     "data": {
      "text/plain": [
       "0    24\n",
       "1    25\n",
       "2    32\n",
       "Name: age, dtype: int64"
      ]
     },
     "execution_count": 35,
     "metadata": {},
     "output_type": "execute_result"
    }
   ],
   "source": [
    "df3['age']"
   ]
  },
  {
   "cell_type": "markdown",
   "id": "f3857418",
   "metadata": {},
   "source": [
    "## Method-2 [From Lists of Dictionary]"
   ]
  },
  {
   "cell_type": "code",
   "execution_count": 12,
   "id": "40257195",
   "metadata": {},
   "outputs": [],
   "source": [
    "data4=[\n",
    "    {'name':'ankit','age':24,'profession':'sde'},\n",
    "    {'name':'sachin','age':25,'profession':'data'},\n",
    "    {'name':'sourav','age':32,'profession':'training'}\n",
    "]"
   ]
  },
  {
   "cell_type": "code",
   "execution_count": null,
   "id": "116aa275",
   "metadata": {},
   "outputs": [],
   "source": []
  },
  {
   "cell_type": "code",
   "execution_count": 36,
   "id": "f2ca8a6f",
   "metadata": {},
   "outputs": [],
   "source": [
    "df4=pd.DataFrame(data4)"
   ]
  },
  {
   "cell_type": "code",
   "execution_count": 38,
   "id": "e97ffb79",
   "metadata": {},
   "outputs": [
    {
     "data": {
      "text/plain": [
       "0     ankit\n",
       "1    sachin\n",
       "2    sourav\n",
       "Name: name, dtype: object"
      ]
     },
     "execution_count": 38,
     "metadata": {},
     "output_type": "execute_result"
    }
   ],
   "source": [
    "df4['name']"
   ]
  },
  {
   "cell_type": "markdown",
   "id": "39537a91",
   "metadata": {},
   "source": [
    "# Method-3 [From Lists Of list]"
   ]
  },
  {
   "cell_type": "code",
   "execution_count": 14,
   "id": "a874ac28",
   "metadata": {},
   "outputs": [],
   "source": [
    "data5=[\n",
    "    ['ankit',24,'sde'],\n",
    "    ['sachin',25,'data'],\n",
    "    ['sourav',32,'training']\n",
    "]"
   ]
  },
  {
   "cell_type": "code",
   "execution_count": 15,
   "id": "71a04fee",
   "metadata": {},
   "outputs": [
    {
     "data": {
      "text/plain": [
       "[['ankit', 24, 'sde'], ['sachin', 25, 'data'], ['sourav', 32, 'training']]"
      ]
     },
     "execution_count": 15,
     "metadata": {},
     "output_type": "execute_result"
    }
   ],
   "source": [
    "data5"
   ]
  },
  {
   "cell_type": "code",
   "execution_count": 16,
   "id": "7086168b",
   "metadata": {},
   "outputs": [
    {
     "data": {
      "text/html": [
       "<div>\n",
       "<style scoped>\n",
       "    .dataframe tbody tr th:only-of-type {\n",
       "        vertical-align: middle;\n",
       "    }\n",
       "\n",
       "    .dataframe tbody tr th {\n",
       "        vertical-align: top;\n",
       "    }\n",
       "\n",
       "    .dataframe thead th {\n",
       "        text-align: right;\n",
       "    }\n",
       "</style>\n",
       "<table border=\"1\" class=\"dataframe\">\n",
       "  <thead>\n",
       "    <tr style=\"text-align: right;\">\n",
       "      <th></th>\n",
       "      <th>0</th>\n",
       "      <th>1</th>\n",
       "      <th>2</th>\n",
       "    </tr>\n",
       "  </thead>\n",
       "  <tbody>\n",
       "    <tr>\n",
       "      <th>0</th>\n",
       "      <td>ankit</td>\n",
       "      <td>24</td>\n",
       "      <td>sde</td>\n",
       "    </tr>\n",
       "    <tr>\n",
       "      <th>1</th>\n",
       "      <td>sachin</td>\n",
       "      <td>25</td>\n",
       "      <td>data</td>\n",
       "    </tr>\n",
       "    <tr>\n",
       "      <th>2</th>\n",
       "      <td>sourav</td>\n",
       "      <td>32</td>\n",
       "      <td>training</td>\n",
       "    </tr>\n",
       "  </tbody>\n",
       "</table>\n",
       "</div>"
      ],
      "text/plain": [
       "        0   1         2\n",
       "0   ankit  24       sde\n",
       "1  sachin  25      data\n",
       "2  sourav  32  training"
      ]
     },
     "execution_count": 16,
     "metadata": {},
     "output_type": "execute_result"
    }
   ],
   "source": [
    "pd.DataFrame(data5)"
   ]
  },
  {
   "cell_type": "code",
   "execution_count": null,
   "id": "45cd2141",
   "metadata": {},
   "outputs": [],
   "source": []
  }
 ],
 "metadata": {
  "kernelspec": {
   "display_name": "Python 3",
   "language": "python",
   "name": "python3"
  },
  "language_info": {
   "codemirror_mode": {
    "name": "ipython",
    "version": 3
   },
   "file_extension": ".py",
   "mimetype": "text/x-python",
   "name": "python",
   "nbconvert_exporter": "python",
   "pygments_lexer": "ipython3",
   "version": "3.12.10"
  }
 },
 "nbformat": 4,
 "nbformat_minor": 5
}
